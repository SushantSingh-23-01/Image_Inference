{
  "cells": [
    {
      "cell_type": "markdown",
      "metadata": {
        "id": "Lb6cipyNfzUR"
      },
      "source": [
        "# Quantize SDXL"
      ]
    },
    {
      "cell_type": "markdown",
      "metadata": {
        "id": "JFsedI3cmcUh"
      },
      "source": [
        "Inspired By: https://civitai.com/articles/10417\n",
        "\n",
        "**Main Difference**: Cutting down the unet-clipvisions seperation step, as most checkpoints have unet file available on huggingface.\n",
        "\n",
        "`Note`: If the unet seperate file is not available and only merged checkpoint is available, this [colab notebook's](https://colab.research.google.com/drive/1xRwSht2tc82O8jrQQG4cl5LH1xdhiCyn?usp=sharing). The first section is useful for seperating the unet and clipvision files."
      ]
    },
    {
      "cell_type": "markdown",
      "metadata": {
        "id": "0_gLeUP_uXuX"
      },
      "source": [
        "HuggingFace: https://huggingface.co/John6666\n",
        "\n",
        "`Note`: Most of the sdxl models are available on this account."
      ]
    },
    {
      "cell_type": "markdown",
      "metadata": {
        "id": "seihJ8G3f3X6"
      },
      "source": [
        "### Importing Libraries"
      ]
    },
    {
      "cell_type": "code",
      "execution_count": null,
      "metadata": {
        "id": "2hyVHzKGGeAv"
      },
      "outputs": [],
      "source": [
        "from dataclasses import dataclass\n",
        "from huggingface_hub import hf_hub_download\n",
        "import logging\n",
        "import os\n",
        "from safetensors.torch import load_file, save_file\n",
        "import torch"
      ]
    },
    {
      "cell_type": "markdown",
      "metadata": {
        "id": "XQwTaZB1X5NH"
      },
      "source": [
        "### Main Config"
      ]
    },
    {
      "cell_type": "markdown",
      "metadata": {
        "id": "kZP2AEDydgMm"
      },
      "source": [
        "`Config Parameters`:\n",
        "- **repo_id**: Hugging Face repository.\n",
        "- **filename**: Check the huggingface repository and if there is no *unet* folder or *safetensors* file's name doesn't match, make changes accordingly.\n",
        "- **filename_prefix**: Desired name for the quantized model. Example: *cyberrealistic_xl, epicrealism_xl* etc.\n",
        "- **output_dir**: Directory where quantized model will be stored.\n",
        "- **quant_type**: Type of quantization to use. Example: *Q4_K_S, Q4_K_M, Q5_K_S, Q5_K_M, Q8* etc.\n"
      ]
    },
    {
      "cell_type": "markdown",
      "metadata": {
        "id": "wPPPNxgAsz97"
      },
      "source": [
        "`Note`: You still would need to download the clipvision models. Download following files:\n",
        "1. *hf_repo_id/text_encoder/model.safetensors* and rename it to *filename_prefix_clip_l*. (~246 Mb)\n",
        "2. *hf_repo_id/text_encoder_2/model.safetensors* and rename it to *filename_prefix_clip_g*. (1.4 Gb)\n",
        "3. Place this both files in clip vision folder of models directory.\n",
        "4. Vae needs to be only downloaded once for SDXL as all versions have same vae in them. It will also be available in *hf_repo_id/vae/diffusion_pytorch_model.safetensors*\n",
        "5. Download it, rename it to *sdxl_vae* and place it in vae folder.\n",
        "\n",
        "`Note`: After carefully filling the config, all following cells can be run all together.\n",
        "\n",
        "`Warning`: At the moment this does not support Pony and Illustrious versions."
      ]
    },
    {
      "cell_type": "code",
      "execution_count": null,
      "metadata": {
        "id": "Bu2oLb_wmgcb"
      },
      "outputs": [],
      "source": [
        "@dataclass\n",
        "class config:\n",
        "    repo_id = 'John6666/cyberrealistic-pony-v85-sdxl'\n",
        "    filename = 'unet/diffusion_pytorch_model.safetensors'\n",
        "    filename_prefix = 'cyberrealistic-sdxl-pony'\n",
        "    output_dir = '/content/components'\n",
        "    quant_type = 'Q5_K_S'"
      ]
    },
    {
      "cell_type": "code",
      "execution_count": null,
      "metadata": {
        "id": "UYG42KDoXHM6"
      },
      "outputs": [],
      "source": [
        "os.makedirs(config.output_dir, exist_ok=True)"
      ]
    },
    {
      "cell_type": "markdown",
      "metadata": {
        "id": "hZBBIOIZX3Sw"
      },
      "source": [
        "### Downloading Model"
      ]
    },
    {
      "cell_type": "code",
      "execution_count": null,
      "metadata": {
        "colab": {
          "base_uri": "https://localhost:8080/",
          "height": 173,
          "referenced_widgets": [
            "c4c0f692331a467b9ce3dd0a8a3b308b",
            "5a128c1707fa4522a603bce8351bf476",
            "76c146394dca478da299eff60eb23df7",
            "0da5b664c06d4581a4e1aa270b91ebcb",
            "69a78b355e6444af8da1d2bfd3e20e30",
            "8c25510e3657497e8104c8e4a958aa31",
            "68b236e8c90645c18b83fda82a6d2b12",
            "0f531dac36bb4e09b1820edafcddffc8",
            "60a094db3a414290b573e4151ced246c",
            "65c31c3a4e834d7d9307c5cd272c7989",
            "49ec85ad5e244fb1ac571d7b1f6ba6e2"
          ]
        },
        "id": "fVzlEepu-VIW",
        "outputId": "2f6ace15-172a-486c-9960-428bace5a764"
      },
      "outputs": [],
      "source": [
        "unet = hf_hub_download(repo_id=config.repo_id, filename=config.filename)"
      ]
    },
    {
      "cell_type": "markdown",
      "metadata": {
        "id": "jImUIetcPWIi"
      },
      "source": [
        "### Setting up Llama.cpp"
      ]
    },
    {
      "cell_type": "markdown",
      "metadata": {},
      "source": [
        "This cell will set up Llama.cpp need for GGUF conversion."
      ]
    },
    {
      "cell_type": "code",
      "execution_count": null,
      "metadata": {
        "colab": {
          "base_uri": "https://localhost:8080/"
        },
        "id": "iF0FrDwMncXY",
        "outputId": "05763b99-4c25-4689-b1c2-97ea0f5e16d3"
      },
      "outputs": [],
      "source": [
        "# Clone the llama.cpp repository\n",
        "!git clone https://github.com/ggerganov/llama.cpp\n",
        "\n",
        "# Install gguf-py\n",
        "!pip install llama.cpp/gguf-py\n",
        "\n",
        "# Change to the llama.cpp directory\n",
        "%cd llama.cpp"
      ]
    },
    {
      "cell_type": "markdown",
      "metadata": {
        "id": "P37VxDr63LYB"
      },
      "source": [
        "### Download conversion files and patching"
      ]
    },
    {
      "cell_type": "markdown",
      "metadata": {},
      "source": [
        "This cell will patch Llama.cpp to recognize the SDXL architecture. The convert.py and the patch are from the city96's repo."
      ]
    },
    {
      "cell_type": "code",
      "execution_count": null,
      "metadata": {
        "colab": {
          "base_uri": "https://localhost:8080/"
        },
        "id": "luVaBYtyFXEX",
        "outputId": "39563900-7d68-4701-9d8f-2727753a2b55"
      },
      "outputs": [],
      "source": [
        "# Download convert.py\n",
        "!wget -O convert.py \"https://raw.githubusercontent.com/city96/ComfyUI-GGUF/main/tools/convert.py\"\n",
        "\n",
        "# Download convert_g.py for clip_g\n",
        "!wget -O convert_g.py \"https://huggingface.co/Old-Fisherman/SDXL_Finetune_GGUF_Files/resolve/main/convert_g.py\"\n",
        "\n",
        "# Download lcpp patch\n",
        "!wget -O lcpp.patch \"https://raw.githubusercontent.com/city96/ComfyUI-GGUF/main/tools/lcpp.patch\"\n",
        "\n",
        "# Patching lcpp\n",
        "!git checkout tags/b3600\n",
        "!git apply lcpp.patch\n",
        "\n",
        "# Create the build directory\n",
        "!mkdir build\n",
        "\n",
        "# Change to the build directory\n",
        "%cd build\n",
        "\n",
        "# Run cmake to configure the build\n",
        "!cmake ..\n",
        "\n",
        "# Build the target with cmake\n",
        "!cmake --build . --config Debug -j10 --target llama-quantize\n",
        "\n",
        "# Change back to the previous directory\n",
        "%cd .."
      ]
    },
    {
      "cell_type": "markdown",
      "metadata": {
        "id": "hkts8C5fWzJ6"
      },
      "source": [
        "### Conversion from fp16 Unet Safetensors to Quant_xxx GGUF"
      ]
    },
    {
      "cell_type": "code",
      "execution_count": null,
      "metadata": {
        "colab": {
          "base_uri": "https://localhost:8080/"
        },
        "id": "8zvybMdCSilU",
        "outputId": "62b9bc88-d20a-4e2a-bc1f-a14d1a7f6fef"
      },
      "outputs": [],
      "source": [
        "class Quantizer:\n",
        "    def __init__(self, input_path, output_dir, filename_prefix, quant_type):\n",
        "        self.input_path = input_path\n",
        "        self.output_dir = output_dir\n",
        "        self.filename_prefix = filename_prefix\n",
        "        self.quant_type = quant_type\n",
        "\n",
        "    def convert_fp16_gguf16(self):\n",
        "        dst = os.path.join(config.output_dir, f\"{config.filename_prefix}-F16.gguf\")\n",
        "        if not os.path.exists(self.input_path):\n",
        "            print(f\"Error: Source file not found at {self.input_path}\")\n",
        "        else:\n",
        "            command = f\"python convert.py --src {self.input_path} --dst {dst}\"\n",
        "            print(f\"Running command: {command}\")\n",
        "            !{command}\n",
        "\n",
        "    def convert_gguf16_to_qx(self):\n",
        "        src = os.path.join(config.output_dir, f\"{config.filename_prefix}-F16.gguf\")\n",
        "        dst = os.path.join(self.output_dir, f\"{self.filename_prefix}_{self.quant_type}.gguf\")\n",
        "        !./build/bin/llama-quantize {src} {dst} {config.quant_type}\n",
        "\n",
        "    def __call__(self):\n",
        "        self.convert_fp16_gguf16()\n",
        "        self.convert_gguf16_to_qx()\n",
        "\n",
        "\n",
        "quantizer = Quantizer(unet, config.output_dir, config.filename_prefix, config.quant_type)\n",
        "quantizer()"
      ]
    }
  ],
  "metadata": {
    "colab": {
      "collapsed_sections": [
        "seihJ8G3f3X6",
        "hZBBIOIZX3Sw",
        "jImUIetcPWIi",
        "P37VxDr63LYB",
        "hkts8C5fWzJ6"
      ],
      "provenance": []
    },
    "kernelspec": {
      "display_name": "Python 3",
      "name": "python3"
    },
    "language_info": {
      "name": "python"
    },
    "widgets": {
      "application/vnd.jupyter.widget-state+json": {
        "0da5b664c06d4581a4e1aa270b91ebcb": {
          "model_module": "@jupyter-widgets/controls",
          "model_module_version": "1.5.0",
          "model_name": "HTMLModel",
          "state": {
            "_dom_classes": [],
            "_model_module": "@jupyter-widgets/controls",
            "_model_module_version": "1.5.0",
            "_model_name": "HTMLModel",
            "_view_count": null,
            "_view_module": "@jupyter-widgets/controls",
            "_view_module_version": "1.5.0",
            "_view_name": "HTMLView",
            "description": "",
            "description_tooltip": null,
            "layout": "IPY_MODEL_65c31c3a4e834d7d9307c5cd272c7989",
            "placeholder": "​",
            "style": "IPY_MODEL_49ec85ad5e244fb1ac571d7b1f6ba6e2",
            "value": " 5.14G/5.14G [00:32&lt;00:00, 241MB/s]"
          }
        },
        "0f531dac36bb4e09b1820edafcddffc8": {
          "model_module": "@jupyter-widgets/base",
          "model_module_version": "1.2.0",
          "model_name": "LayoutModel",
          "state": {
            "_model_module": "@jupyter-widgets/base",
            "_model_module_version": "1.2.0",
            "_model_name": "LayoutModel",
            "_view_count": null,
            "_view_module": "@jupyter-widgets/base",
            "_view_module_version": "1.2.0",
            "_view_name": "LayoutView",
            "align_content": null,
            "align_items": null,
            "align_self": null,
            "border": null,
            "bottom": null,
            "display": null,
            "flex": null,
            "flex_flow": null,
            "grid_area": null,
            "grid_auto_columns": null,
            "grid_auto_flow": null,
            "grid_auto_rows": null,
            "grid_column": null,
            "grid_gap": null,
            "grid_row": null,
            "grid_template_areas": null,
            "grid_template_columns": null,
            "grid_template_rows": null,
            "height": null,
            "justify_content": null,
            "justify_items": null,
            "left": null,
            "margin": null,
            "max_height": null,
            "max_width": null,
            "min_height": null,
            "min_width": null,
            "object_fit": null,
            "object_position": null,
            "order": null,
            "overflow": null,
            "overflow_x": null,
            "overflow_y": null,
            "padding": null,
            "right": null,
            "top": null,
            "visibility": null,
            "width": null
          }
        },
        "49ec85ad5e244fb1ac571d7b1f6ba6e2": {
          "model_module": "@jupyter-widgets/controls",
          "model_module_version": "1.5.0",
          "model_name": "DescriptionStyleModel",
          "state": {
            "_model_module": "@jupyter-widgets/controls",
            "_model_module_version": "1.5.0",
            "_model_name": "DescriptionStyleModel",
            "_view_count": null,
            "_view_module": "@jupyter-widgets/base",
            "_view_module_version": "1.2.0",
            "_view_name": "StyleView",
            "description_width": ""
          }
        },
        "5a128c1707fa4522a603bce8351bf476": {
          "model_module": "@jupyter-widgets/controls",
          "model_module_version": "1.5.0",
          "model_name": "HTMLModel",
          "state": {
            "_dom_classes": [],
            "_model_module": "@jupyter-widgets/controls",
            "_model_module_version": "1.5.0",
            "_model_name": "HTMLModel",
            "_view_count": null,
            "_view_module": "@jupyter-widgets/controls",
            "_view_module_version": "1.5.0",
            "_view_name": "HTMLView",
            "description": "",
            "description_tooltip": null,
            "layout": "IPY_MODEL_8c25510e3657497e8104c8e4a958aa31",
            "placeholder": "​",
            "style": "IPY_MODEL_68b236e8c90645c18b83fda82a6d2b12",
            "value": "diffusion_pytorch_model.safetensors: 100%"
          }
        },
        "60a094db3a414290b573e4151ced246c": {
          "model_module": "@jupyter-widgets/controls",
          "model_module_version": "1.5.0",
          "model_name": "ProgressStyleModel",
          "state": {
            "_model_module": "@jupyter-widgets/controls",
            "_model_module_version": "1.5.0",
            "_model_name": "ProgressStyleModel",
            "_view_count": null,
            "_view_module": "@jupyter-widgets/base",
            "_view_module_version": "1.2.0",
            "_view_name": "StyleView",
            "bar_color": null,
            "description_width": ""
          }
        },
        "65c31c3a4e834d7d9307c5cd272c7989": {
          "model_module": "@jupyter-widgets/base",
          "model_module_version": "1.2.0",
          "model_name": "LayoutModel",
          "state": {
            "_model_module": "@jupyter-widgets/base",
            "_model_module_version": "1.2.0",
            "_model_name": "LayoutModel",
            "_view_count": null,
            "_view_module": "@jupyter-widgets/base",
            "_view_module_version": "1.2.0",
            "_view_name": "LayoutView",
            "align_content": null,
            "align_items": null,
            "align_self": null,
            "border": null,
            "bottom": null,
            "display": null,
            "flex": null,
            "flex_flow": null,
            "grid_area": null,
            "grid_auto_columns": null,
            "grid_auto_flow": null,
            "grid_auto_rows": null,
            "grid_column": null,
            "grid_gap": null,
            "grid_row": null,
            "grid_template_areas": null,
            "grid_template_columns": null,
            "grid_template_rows": null,
            "height": null,
            "justify_content": null,
            "justify_items": null,
            "left": null,
            "margin": null,
            "max_height": null,
            "max_width": null,
            "min_height": null,
            "min_width": null,
            "object_fit": null,
            "object_position": null,
            "order": null,
            "overflow": null,
            "overflow_x": null,
            "overflow_y": null,
            "padding": null,
            "right": null,
            "top": null,
            "visibility": null,
            "width": null
          }
        },
        "68b236e8c90645c18b83fda82a6d2b12": {
          "model_module": "@jupyter-widgets/controls",
          "model_module_version": "1.5.0",
          "model_name": "DescriptionStyleModel",
          "state": {
            "_model_module": "@jupyter-widgets/controls",
            "_model_module_version": "1.5.0",
            "_model_name": "DescriptionStyleModel",
            "_view_count": null,
            "_view_module": "@jupyter-widgets/base",
            "_view_module_version": "1.2.0",
            "_view_name": "StyleView",
            "description_width": ""
          }
        },
        "69a78b355e6444af8da1d2bfd3e20e30": {
          "model_module": "@jupyter-widgets/base",
          "model_module_version": "1.2.0",
          "model_name": "LayoutModel",
          "state": {
            "_model_module": "@jupyter-widgets/base",
            "_model_module_version": "1.2.0",
            "_model_name": "LayoutModel",
            "_view_count": null,
            "_view_module": "@jupyter-widgets/base",
            "_view_module_version": "1.2.0",
            "_view_name": "LayoutView",
            "align_content": null,
            "align_items": null,
            "align_self": null,
            "border": null,
            "bottom": null,
            "display": null,
            "flex": null,
            "flex_flow": null,
            "grid_area": null,
            "grid_auto_columns": null,
            "grid_auto_flow": null,
            "grid_auto_rows": null,
            "grid_column": null,
            "grid_gap": null,
            "grid_row": null,
            "grid_template_areas": null,
            "grid_template_columns": null,
            "grid_template_rows": null,
            "height": null,
            "justify_content": null,
            "justify_items": null,
            "left": null,
            "margin": null,
            "max_height": null,
            "max_width": null,
            "min_height": null,
            "min_width": null,
            "object_fit": null,
            "object_position": null,
            "order": null,
            "overflow": null,
            "overflow_x": null,
            "overflow_y": null,
            "padding": null,
            "right": null,
            "top": null,
            "visibility": null,
            "width": null
          }
        },
        "76c146394dca478da299eff60eb23df7": {
          "model_module": "@jupyter-widgets/controls",
          "model_module_version": "1.5.0",
          "model_name": "FloatProgressModel",
          "state": {
            "_dom_classes": [],
            "_model_module": "@jupyter-widgets/controls",
            "_model_module_version": "1.5.0",
            "_model_name": "FloatProgressModel",
            "_view_count": null,
            "_view_module": "@jupyter-widgets/controls",
            "_view_module_version": "1.5.0",
            "_view_name": "ProgressView",
            "bar_style": "success",
            "description": "",
            "description_tooltip": null,
            "layout": "IPY_MODEL_0f531dac36bb4e09b1820edafcddffc8",
            "max": 5135149760,
            "min": 0,
            "orientation": "horizontal",
            "style": "IPY_MODEL_60a094db3a414290b573e4151ced246c",
            "value": 5135149760
          }
        },
        "8c25510e3657497e8104c8e4a958aa31": {
          "model_module": "@jupyter-widgets/base",
          "model_module_version": "1.2.0",
          "model_name": "LayoutModel",
          "state": {
            "_model_module": "@jupyter-widgets/base",
            "_model_module_version": "1.2.0",
            "_model_name": "LayoutModel",
            "_view_count": null,
            "_view_module": "@jupyter-widgets/base",
            "_view_module_version": "1.2.0",
            "_view_name": "LayoutView",
            "align_content": null,
            "align_items": null,
            "align_self": null,
            "border": null,
            "bottom": null,
            "display": null,
            "flex": null,
            "flex_flow": null,
            "grid_area": null,
            "grid_auto_columns": null,
            "grid_auto_flow": null,
            "grid_auto_rows": null,
            "grid_column": null,
            "grid_gap": null,
            "grid_row": null,
            "grid_template_areas": null,
            "grid_template_columns": null,
            "grid_template_rows": null,
            "height": null,
            "justify_content": null,
            "justify_items": null,
            "left": null,
            "margin": null,
            "max_height": null,
            "max_width": null,
            "min_height": null,
            "min_width": null,
            "object_fit": null,
            "object_position": null,
            "order": null,
            "overflow": null,
            "overflow_x": null,
            "overflow_y": null,
            "padding": null,
            "right": null,
            "top": null,
            "visibility": null,
            "width": null
          }
        },
        "c4c0f692331a467b9ce3dd0a8a3b308b": {
          "model_module": "@jupyter-widgets/controls",
          "model_module_version": "1.5.0",
          "model_name": "HBoxModel",
          "state": {
            "_dom_classes": [],
            "_model_module": "@jupyter-widgets/controls",
            "_model_module_version": "1.5.0",
            "_model_name": "HBoxModel",
            "_view_count": null,
            "_view_module": "@jupyter-widgets/controls",
            "_view_module_version": "1.5.0",
            "_view_name": "HBoxView",
            "box_style": "",
            "children": [
              "IPY_MODEL_5a128c1707fa4522a603bce8351bf476",
              "IPY_MODEL_76c146394dca478da299eff60eb23df7",
              "IPY_MODEL_0da5b664c06d4581a4e1aa270b91ebcb"
            ],
            "layout": "IPY_MODEL_69a78b355e6444af8da1d2bfd3e20e30"
          }
        }
      }
    }
  },
  "nbformat": 4,
  "nbformat_minor": 0
}
